{
 "cells": [
  {
   "cell_type": "code",
   "execution_count": 1,
   "metadata": {},
   "outputs": [],
   "source": [
    "import numpy as np"
   ]
  },
  {
   "cell_type": "code",
   "execution_count": 2,
   "metadata": {},
   "outputs": [],
   "source": [
    "from forkED.generator import *"
   ]
  },
  {
   "cell_type": "code",
   "execution_count": 3,
   "metadata": {},
   "outputs": [],
   "source": [
    "folder = '/Users/ryansaxe/Projects/ML/forkED/data/ml-25m/processed/'\n",
    "import pickle\n",
    "dim = max(pickle.load(\n",
    "    open(folder + 'maps/movie.pkl','rb')\n",
    ").values()) + 1"
   ]
  },
  {
   "cell_type": "code",
   "execution_count": 4,
   "metadata": {},
   "outputs": [
    {
     "data": {
      "text/plain": [
       "45251"
      ]
     },
     "execution_count": 4,
     "metadata": {},
     "output_type": "execute_result"
    }
   ],
   "source": [
    "dim"
   ]
  },
  {
   "cell_type": "code",
   "execution_count": 5,
   "metadata": {},
   "outputs": [],
   "source": [
    "test = Augmentation(\n",
    "    folder + \"users/\",\n",
    "    256,\n",
    "    dim,\n",
    "    verbose=False,\n",
    "    file_cap_for_debug=1000,\n",
    "    noise = (0.5, 0.5)\n",
    ")"
   ]
  },
  {
   "cell_type": "code",
   "execution_count": 6,
   "metadata": {},
   "outputs": [],
   "source": [
    "from forkED.model import EncoderDecoder"
   ]
  },
  {
   "cell_type": "code",
   "execution_count": 7,
   "metadata": {},
   "outputs": [],
   "source": [
    "model = EncoderDecoder(\n",
    "    dim,\n",
    "    256,\n",
    "    32,\n",
    "    3,\n",
    "    dropout=0.4,\n",
    ")"
   ]
  },
  {
   "cell_type": "code",
   "execution_count": 8,
   "metadata": {},
   "outputs": [],
   "source": [
    "import tensorflow as tf\n",
    "model.loss = tf.losses.binary_crossentropy\n",
    "model.optimizer = tf.optimizers.Adam(lr=0.001)"
   ]
  },
  {
   "cell_type": "code",
   "execution_count": 9,
   "metadata": {},
   "outputs": [],
   "source": [
    "from forkED.trainer import Trainer"
   ]
  },
  {
   "cell_type": "code",
   "execution_count": 10,
   "metadata": {},
   "outputs": [],
   "source": [
    "t = Trainer(test, model)"
   ]
  },
  {
   "cell_type": "code",
   "execution_count": 11,
   "metadata": {},
   "outputs": [
    {
     "name": "stderr",
     "output_type": "stream",
     "text": [
      "Epoch 1/10: 100%|██████████| 4/4 [00:04<00:00,  1.21s/Batch, loss=7.68]\n",
      "Epoch 2/10: 100%|██████████| 4/4 [00:04<00:00,  1.14s/Batch, loss=7.32]\n",
      "Epoch 3/10: 100%|██████████| 4/4 [00:04<00:00,  1.15s/Batch, loss=5.82]\n",
      "Epoch 4/10: 100%|██████████| 4/4 [00:04<00:00,  1.15s/Batch, loss=3.32]\n",
      "Epoch 5/10: 100%|██████████| 4/4 [00:04<00:00,  1.14s/Batch, loss=1.26]\n",
      "Epoch 6/10: 100%|██████████| 4/4 [00:04<00:00,  1.15s/Batch, loss=0.338]\n",
      "Epoch 7/10: 100%|██████████| 4/4 [00:04<00:00,  1.14s/Batch, loss=0.118]\n",
      "Epoch 8/10: 100%|██████████| 4/4 [00:04<00:00,  1.14s/Batch, loss=0.0558]\n",
      "Epoch 9/10: 100%|██████████| 4/4 [00:04<00:00,  1.14s/Batch, loss=0.0419]\n",
      "Epoch 10/10: 100%|██████████| 4/4 [00:04<00:00,  1.13s/Batch, loss=0.0334]\n"
     ]
    }
   ],
   "source": [
    "t.train(10)"
   ]
  },
  {
   "cell_type": "code",
   "execution_count": null,
   "metadata": {},
   "outputs": [],
   "source": []
  }
 ],
 "metadata": {
  "kernelspec": {
   "display_name": "forkED",
   "language": "python",
   "name": "forked"
  },
  "language_info": {
   "codemirror_mode": {
    "name": "ipython",
    "version": 3
   },
   "file_extension": ".py",
   "mimetype": "text/x-python",
   "name": "python",
   "nbconvert_exporter": "python",
   "pygments_lexer": "ipython3",
   "version": "3.7.9"
  }
 },
 "nbformat": 4,
 "nbformat_minor": 2
}
